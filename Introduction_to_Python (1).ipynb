{
 "cells": [
  {
   "cell_type": "markdown",
   "metadata": {
    "id": "cGmMMgiDM66r"
   },
   "source": [
    "# Introduction to Python\n",
    "by Guadalupe Gonzalez and Ivan Laponogov<br>\n",
    "Heavily based on [this tutorial](https://python.pages.doc.ic.ac.uk/2020/modules/module-buildingblocks/introduction)"
   ]
  },
  {
   "cell_type": "markdown",
   "metadata": {
    "id": "_mqGdwRaUFND"
   },
   "source": [
    "## What is programing?\n",
    "\n",
    "Programming is not only \"coding\". It's more than that.\n",
    "Programming is taking a problem, dissecting and understanding it, coming up with a solution for the problem, and finally instructing the computer how to get it done. Understanding a problem enough to \"talk to a computer\"\n",
    "\n",
    "Steps:\n",
    "\n",
    "1. Understand and formulate problem\n",
    "2. Design algorithm to solve problem (sequence of instructions)\n",
    "3. Implement algorithm (coding)\n",
    "4. Test/debug the algorithm \n",
    "5. Apply/Deploy the solution\n",
    "\n",
    "\n"
   ]
  },
  {
   "cell_type": "markdown",
   "metadata": {
    "id": "GvjJTI7EHIT-"
   },
   "source": [
    "## Basic building blocks"
   ]
  },
  {
   "cell_type": "markdown",
   "metadata": {
    "id": "mvCNXSkEHzl8"
   },
   "source": [
    "## Variables \n",
    "A variable is a named \"box\" that contains some data"
   ]
  },
  {
   "cell_type": "code",
   "execution_count": null,
   "metadata": {
    "colab": {
     "base_uri": "https://localhost:8080/"
    },
    "id": "gjXJNLvnHRRo",
    "outputId": "a1357c10-8a80-4eb6-a7b5-5be3306b6d7d"
   },
   "outputs": [],
   "source": [
    "#Numbers:\n",
    "# integer\n",
    "x = 5\n",
    "\n",
    "# float\n",
    "y = 1.25\n",
    "\n",
    "# complex\n",
    "z = 3 + 5j\n",
    "\n",
    "#Booleans\n",
    "truth_statement = True\n",
    "false_statement = False\n",
    "\n",
    "#Strings\n",
    "person_name = 'Joe'\n",
    "person_surname = \"Black\"\n",
    "text_long = \"\"\"\n",
    "This is a multiline\n",
    "string.\n",
    "\n",
    "\"\"\"\n",
    "\n",
    "\n",
    "print(x, type(x))\n",
    "print(y, type(y))\n",
    "print(z, type(z))\n",
    "print(truth_statement, type(truth_statement))\n",
    "print(false_statement, type(false_statement))\n",
    "print(person_name, type(person_name))\n",
    "print(person_surname, type(person_surname))\n",
    "\n",
    "#Special None type\n",
    "none_type_variable = None\n",
    "print(none_type_variable, type(none_type_variable))\n",
    "\n",
    "print(text_long, type(text_long))"
   ]
  },
  {
   "cell_type": "markdown",
   "metadata": {
    "id": "5bZBHc9WICfz"
   },
   "source": [
    "Different variables can point to the same object"
   ]
  },
  {
   "cell_type": "code",
   "execution_count": null,
   "metadata": {
    "colab": {
     "base_uri": "https://localhost:8080/"
    },
    "id": "CPG0CCYyH-0D",
    "outputId": "5ac8cc58-c1fc-4ae2-86d3-1ec72b4d2a35"
   },
   "outputs": [],
   "source": [
    "x = 5\n",
    "y = x\n",
    "print('x:\\t', x)\n",
    "print('y:\\t', y)"
   ]
  },
  {
   "cell_type": "markdown",
   "metadata": {
    "id": "T6vYzxZAINYE"
   },
   "source": [
    "Variables should have semantically-meaningful names <br>\n",
    "\n",
    "Variable names:<br>\n",
    "* Can consist of letters, digits, or underscores (_)<br>\n",
    "* Must start with a letter or an underscore<br>\n",
    "* Cannot be a reserved keyword (e.g. True or while) \n",
    "\n",
    "How should I name my variables? <br>\n",
    "* Use meaningful names\n",
    "* Avoid single-character variable names\n",
    "* [Official style guide](http://www.python.org/dev/peps/pep-0008/) to Python recommends to use lowercase variables, with words separated by underscores as necessary to improve readability (e.g. my_beautiful_home) "
   ]
  },
  {
   "cell_type": "code",
   "execution_count": null,
   "metadata": {
    "colab": {
     "base_uri": "https://localhost:8080/"
    },
    "id": "jh8_bRqJIJwE",
    "outputId": "c1b1fc86-7616-406f-fa7c-9d17b375fa5e"
   },
   "outputs": [],
   "source": [
    "age = 35\n",
    "height = 175\n",
    "\n",
    "print('age:\\t', age)\n",
    "print('height:\\t', height)"
   ]
  },
  {
   "cell_type": "markdown",
   "metadata": {
    "id": "Y-nupovDIjMZ"
   },
   "source": [
    "## Operators\n",
    "\n",
    "We combine the variables that we have seen into expressions using different kinds of operators <br>\n",
    "### Arithmetic operators\n",
    "* \\+     (addition)<br>\n",
    "* \\-      (subtraction)<br>\n",
    "* \\*     (multiplication)<br>\n",
    "* /      (division)<br>\n",
    "* //     (integer part division - e.g. 7 // 2 = 3)<br>\n",
    "* %    (modulo, or remainder after division - e.g. 7 % 2 = 1)<br>\n",
    "* \\**   (exponential - raised to the power) <br>\n",
    "\n"
   ]
  },
  {
   "cell_type": "code",
   "execution_count": null,
   "metadata": {
    "colab": {
     "base_uri": "https://localhost:8080/"
    },
    "id": "z0xGZwegIXDV",
    "outputId": "4a3211ec-9e49-4930-a285-e52c701aecca"
   },
   "outputs": [],
   "source": [
    "print(7 + 2, type(7 + 2))\n",
    "print(7 - 2, type(7 - 2))\n",
    "print(7 * 2, type(7 * 2))\n",
    "print(7 / 2, type(7 / 2))\n",
    "print(7 // 2, type(7 // 2))\n",
    "print(7 % 2, type(7 % 2))\n",
    "print(7 ** 2, type(7 ** 2))\n",
    "print(x + z, type(x + z))\n",
    "print(person_name + person_surname, type(person_name + person_surname))\n",
    "\n",
    "#The following line will throw and error:\n",
    "print(person_name + 7)"
   ]
  },
  {
   "cell_type": "markdown",
   "metadata": {},
   "source": [
    "### Type conversions"
   ]
  },
  {
   "cell_type": "code",
   "execution_count": null,
   "metadata": {},
   "outputs": [],
   "source": [
    "#Conversion to string\n",
    "print(str(x), type(str(x)))\n",
    "\n",
    "#Conversion to int from float\n",
    "print(int(y), type(int(y)))\n",
    "\n",
    "#Conversion from string to float\n",
    "print(float('1.24'), type(float('1.24')))\n",
    "\n",
    "#Conversion from string to int\n",
    "print(int('12'), type(int('12')))"
   ]
  },
  {
   "cell_type": "markdown",
   "metadata": {
    "id": "ALmuZ4wGI7WG"
   },
   "source": [
    "### Comparison operators (return True or False) \n",
    "\n",
    "* \\>     (greater than)\n",
    "* <     (less than)\n",
    "* ==   (equal to)\n",
    "* !=    (not equal to)\n",
    "* \\>=   (greater than or equal)\n",
    "* \\<=   (less than or equal)"
   ]
  },
  {
   "cell_type": "code",
   "execution_count": null,
   "metadata": {
    "colab": {
     "base_uri": "https://localhost:8080/"
    },
    "id": "IADpm4g-IxpX",
    "outputId": "9570264b-5c74-4ebb-f9cc-b3b1a97f5dfa"
   },
   "outputs": [],
   "source": [
    "print(7 > 5)\n",
    "print(7 < 5)\n",
    "print(7 == 5)\n",
    "print(7 != 5)\n",
    "print(7 >= 5)\n",
    "print(7 <= 5)"
   ]
  },
  {
   "cell_type": "markdown",
   "metadata": {
    "id": "DY8vSbGvJIMh"
   },
   "source": [
    "### Logical operators\n",
    "* `not`\n",
    "* `and`\n",
    "* `or`"
   ]
  },
  {
   "cell_type": "code",
   "execution_count": null,
   "metadata": {
    "colab": {
     "base_uri": "https://localhost:8080/"
    },
    "id": "d2DeGT-gJB8I",
    "outputId": "ce1e2df2-bcc6-4488-e2fa-dc78fe35e2ca"
   },
   "outputs": [],
   "source": [
    "print('not True:\\t\\t', not True)\n",
    "print('not False:\\t\\t',not False)\n",
    "print('True and False:\\t\\t',True and False)\n",
    "print('False and False:\\t',False and False)"
   ]
  },
  {
   "cell_type": "markdown",
   "metadata": {
    "id": "S7hJ-84DX0EG"
   },
   "source": [
    "### Assignment statements\n",
    "\n",
    "Most basic operator:  =     This is an assignment operator not an equality operator  \n",
    "\n",
    "The assignment operator assigns the expression on the right hand side (RHS) to the variable on the left hand side (LHS) \n",
    "\n",
    "Shortcut assignment operators: <br>\n",
    "__+=__ <br>\n",
    "__-=__<br>\n",
    "__\\*=__<br>\n",
    "__/=__<br>\n",
    "__%=__ <br>\n",
    "__//=__ <br>\n",
    "__\\*\\*=__ <br>\n",
    "<br>\n",
    "__x += y__ is equivalent to __x = x + y__<br> etc.\n",
    "\n",
    "We can assign the same object to multiple variables:        \n",
    "__x = y = 558__<br>\n",
    "\n",
    "We can perform multiple assignments simultaneously:     \n",
    "__x, y, z = 5, 5, 8__<br>"
   ]
  },
  {
   "cell_type": "code",
   "execution_count": null,
   "metadata": {},
   "outputs": [],
   "source": [
    "a = x\n",
    "b = x + y\n",
    "print(a)\n",
    "print(b)\n",
    "a += 1\n",
    "b += 1\n",
    "print(a)\n",
    "print(b)\n"
   ]
  },
  {
   "cell_type": "markdown",
   "metadata": {},
   "source": [
    "### Question:  ### \n",
    "In other languages usually to swap values of two variables a third temporary variable is used: temp = x, x = y, y = temp. How to swap values of variables x and y without using a third variable in Python?"
   ]
  },
  {
   "cell_type": "code",
   "execution_count": null,
   "metadata": {},
   "outputs": [],
   "source": [
    "print(x, y)\n",
    "#Place your solution here:\n",
    "\n",
    "print(x, y)"
   ]
  },
  {
   "cell_type": "markdown",
   "metadata": {},
   "source": [
    "## Data structures\n",
    "Python supports the following main data structures: <br>\n",
    "    __List__ - is an indexed array of elements. Lists are ordered, changeable and allow duplicates <br>\n",
    "    __Tuple__ - similar to list, but cannot be changed after its creation <br>\n",
    "    __Set__ - a collection of unique elements, no duplicates, no order guaranteed, changeable <br>\n",
    "    __Dictionary__ - a collection of key-value pairs, no duplicate keys, no order guaranteed, changeable <br>\n"
   ]
  },
  {
   "cell_type": "markdown",
   "metadata": {},
   "source": [
    "## Lists"
   ]
  },
  {
   "cell_type": "markdown",
   "metadata": {},
   "source": [
    "### Creation, access and slicing"
   ]
  },
  {
   "cell_type": "code",
   "execution_count": null,
   "metadata": {},
   "outputs": [],
   "source": [
    "empty_list = []\n",
    "mixed_entries_list = [1, 2.34, ['cobra']]\n",
    "\n",
    "#List of people who entered the building.\n",
    "entries = ['Joe', 'Mark', 'Jennie', 'Megan', 'Ellie', 'Mark', 'Joe', 'Mark']\n",
    "print(entries, type(entries))\n",
    "\n",
    "#First one to enter\n",
    "print(entries[0])\n",
    "\n",
    "#Last one to enter\n",
    "print(entries[-1])\n",
    "\n",
    "#One before the last to enter\n",
    "print(entries[-2])\n",
    "\n",
    "#How many entries\n",
    "print(len(entries))\n",
    "\n",
    "#Is there 'Larry' in the list\n",
    "print('Larry in: ', 'Larry' in entries)\n",
    "\n",
    "#Position at which 'Mark' is in the list\n",
    "print('Mark at: ', entries.index('Mark'))\n",
    "\n",
    "#Three first people to enter\n",
    "print(entries[0 : 3])\n",
    "\n",
    "#Last three people to enter\n",
    "print(entries[-3 : ])\n",
    "\n",
    "#Two people who entered after the first one\n",
    "print(entries[1 : 1 + 2])\n",
    "\n",
    "#People entered after 10 first\n",
    "print(entries[10:])\n",
    "\n",
    "#And the following line generates an error since there is no entry for index 10.\n",
    "print(entries[10])"
   ]
  },
  {
   "cell_type": "markdown",
   "metadata": {},
   "source": [
    "### Changing lists"
   ]
  },
  {
   "cell_type": "code",
   "execution_count": null,
   "metadata": {},
   "outputs": [],
   "source": [
    "entries = ['Joe', 'Mark', 'Jennie', 'Megan', 'Ellie', 'Mark', 'Joe', 'Mark']\n",
    "print(entries)\n",
    "\n",
    "#Add element to the list\n",
    "entries.append('Larry')\n",
    "print(entries)\n",
    "\n",
    "#Insert element to the list\n",
    "entries.insert(2, 'Charlie')\n",
    "print(entries)\n",
    "\n",
    "#Delete element from the list\n",
    "del entries[0]\n",
    "print(entries)\n",
    "\n",
    "#Replace a specific entry\n",
    "entries[4] = 'Wallie'\n",
    "print(entries)\n",
    "\n",
    "#or a range of entries\n",
    "entries[4 : 6] = ['Mellie', 'Wallie']\n",
    "print(entries)\n",
    "\n",
    "#You can concatenate lists\n",
    "print(entries + entries)\n",
    "\n",
    "#Or you can generate multicopy lists\n",
    "print(['Hello', 'world'] * 5)\n",
    "\n",
    "#Or you can extend your list with any iterable\n",
    "entries.extend(['Susie', 'Jim'])\n",
    "print(entries)\n",
    "\n",
    "#You can also remove and return a value from the list\n",
    "entry = entries.pop(2)\n",
    "print(entry, entries)\n",
    "last_entry = entries.pop()\n",
    "print(last_entry, entries)\n",
    "\n"
   ]
  },
  {
   "cell_type": "code",
   "execution_count": null,
   "metadata": {},
   "outputs": [],
   "source": [
    "#Make a copy of the list\n",
    "list1 = [1, 2, 3]\n",
    "list2 = list(list1)\n",
    "\n",
    "#Try uncommenting the following line and see the change\n",
    "#list2 = list1\n",
    "\n",
    "print(list1, list2)\n",
    "\n",
    "list2[0] = 1.24\n",
    "\n",
    "list1[0] = 33\n",
    "\n",
    "print(list1, list2)\n",
    "\n"
   ]
  },
  {
   "cell_type": "markdown",
   "metadata": {},
   "source": [
    "### List methods\n",
    "\n",
    "__append()__ - \tAdds an element at the end of the list <br>\n",
    "__clear()__ -\tRemoves all the elements from the list <br>\n",
    "__copy()__ - \tReturns a copy of the list <br>\n",
    "__count()__\t- Returns the number of elements with the specified value <br>\n",
    "__extend()__ - \tAdd the elements of a list (or any iterable), to the end of the current list <br>\n",
    "__index()__ -\tReturns the index of the first element with the specified value <br>\n",
    "__insert()__ -\tAdds an element at the specified position <br>\n",
    "__pop()__ -\tRemoves the element at the specified position <br>\n",
    "__remove()__ -\tRemoves the item with the specified value <br>\n",
    "__reverse()__ -\tReverses the order of the list <br>\n",
    "__sort()__ -\tSorts the list <br>"
   ]
  },
  {
   "cell_type": "markdown",
   "metadata": {},
   "source": [
    "## Tuples\n",
    "Similar to lists, but do not allow changing post-creation. Thanks to this they can be used as keys for dictionaries or unique items for sets, unlike lists."
   ]
  },
  {
   "cell_type": "code",
   "execution_count": null,
   "metadata": {},
   "outputs": [],
   "source": [
    "#Since tuples are not changeable, they should be created with the data you want them to keep\n",
    "entries = ('Joe', 'Mark', 'Jennie', 'Megan', 'Ellie', 'Mark', 'Joe', 'Mark')\n",
    "\n",
    "print(entries, type(entries))\n",
    "\n",
    "#First one to enter\n",
    "print(entries[0])\n",
    "\n",
    "#Last one to enter\n",
    "print(entries[-1])\n",
    "\n",
    "#One before the last to enter\n",
    "print(entries[-2])\n",
    "\n",
    "#How many entries\n",
    "print(len(entries))\n",
    "\n",
    "#Is there 'Larry' in the list\n",
    "print('Larry in: ', 'Larry' in entries)\n",
    "\n",
    "#Position at which 'Mark' is in the list\n",
    "print('Mark at: ', entries.index('Mark'))\n",
    "\n",
    "#Three first people to enter\n",
    "print(entries[0 : 3])\n",
    "\n",
    "#Last three people to enter\n",
    "print(entries[-3 : ])\n",
    "\n",
    "#Two people who entered after the first one\n",
    "print(entries[1 : 1 + 2])\n",
    "\n",
    "#People entered after 10 first\n",
    "print(entries[10:])\n",
    "\n",
    "#And the following line generates an error since there is no entry for index 10.\n",
    "print(entries[10])\n"
   ]
  },
  {
   "cell_type": "code",
   "execution_count": null,
   "metadata": {},
   "outputs": [],
   "source": [
    "#Now if you try to assign to a tuple:\n",
    "\n",
    "entries[0] = 'Mollie'"
   ]
  },
  {
   "cell_type": "code",
   "execution_count": null,
   "metadata": {},
   "outputs": [],
   "source": [
    "#To change tuple you should convert it to list, change a list and then convert it back to tuple\n",
    "print(entries, type(entries))\n",
    "\n",
    "list_entries = list(entries)\n",
    "print(list_entries, type(list_entries))\n",
    "\n",
    "list_entries[0] = 'Mollie'\n",
    "entries = tuple(list_entries)\n",
    "\n",
    "print(entries, type(entries))\n"
   ]
  },
  {
   "cell_type": "markdown",
   "metadata": {},
   "source": [
    "## Sets\n",
    "Sets are the unique unordered collections of items. \n",
    "Items should not be changeable, so sets cannot contain lists, but can contain tuples. Otherwise the items can be of different types."
   ]
  },
  {
   "cell_type": "code",
   "execution_count": null,
   "metadata": {},
   "outputs": [],
   "source": [
    "#Set creation\n",
    "empty_set = set()\n",
    "pre_populated_set = {\"apple\", \"banana\"}\n",
    "print(empty_set, type(empty_set))\n",
    "print(pre_populated_set, type(pre_populated_set))\n",
    "\n",
    "# OK, we have a list of who entered the building in sequential order. However, some entered the building mupltiple times.\n",
    "# Let's find out how many unique people entered:\n",
    "\n",
    "unique_entries = set(entries)\n",
    "print(entries, unique_entries, type(unique_entries))\n",
    "\n",
    "#Tuple size\n",
    "print(len(entries))\n",
    "\n",
    "#Set size\n",
    "print(len(unique_entries))\n",
    "\n",
    "#Check if 'Mark' is in set\n",
    "print('Mark' in unique_entries)\n",
    "\n",
    "#For individual item access, convert set to list\n",
    "unique_list = list(unique_entries)\n",
    "print(unique_list, type(unique_list))\n",
    "\n",
    "#To add one item to the set:\n",
    "print(unique_entries)\n",
    "unique_entries.add('Jolie')\n",
    "print(unique_entries)\n",
    "unique_entries.add('Mark')\n",
    "print(unique_entries)\n",
    "\n",
    "#To add multiple items from any iterable\n",
    "unique_entries.update(['John', 'Mark', 'Joe', 'Kelly'])\n",
    "print(unique_entries)\n",
    "\n",
    "#To remove a value use either discard() or remove methods()\n",
    "unique_entries.remove('Mark')\n",
    "print(unique_entries)\n",
    "unique_entries.discard('Jennie')\n",
    "print(unique_entries)\n",
    "\n",
    "#Note that discard() will not throw an error if element is not there, but remove() will\n",
    "unique_entries.discard('Jennie')\n",
    "print(unique_entries)\n",
    "unique_entries.remove('Mark')\n",
    "\n"
   ]
  },
  {
   "cell_type": "markdown",
   "metadata": {},
   "source": [
    "### Operations on sets\n"
   ]
  },
  {
   "cell_type": "code",
   "execution_count": null,
   "metadata": {},
   "outputs": [],
   "source": [
    "# Union of two sets\n",
    "a = {1, 2, 3}\n",
    "b = {3, 4, 5}\n",
    "print(a.union(b))\n",
    "\n",
    "# Intersection of two sets\n",
    "print(a.intersection(b))\n",
    "\n",
    "# Difference of two sets\n",
    "print(a.difference(b))\n",
    "\n"
   ]
  },
  {
   "cell_type": "markdown",
   "metadata": {},
   "source": [
    "### Set methods available\n",
    "\n",
    "__add()__\tAdds an element to the set <br>\n",
    "__clear()__\tRemoves all the elements from the set <br>\n",
    "__copy()__\tReturns a copy of the set <br>\n",
    "__difference()__\tReturns a set containing the difference between two or more sets <br>\n",
    "__difference\\_update()__\tRemoves the items in this set that are also included in another, specified set <br>\n",
    "__discard()__\tRemove the specified item <br>\n",
    "__intersection()__\tReturns a set, that is the intersection of two other sets <br>\n",
    "__intersection\\_update()__\tRemoves the items in this set that are not present in other, specified set(s) <br>\n",
    "__isdisjoint()__\tReturns whether two sets have a intersection or not <br>\n",
    "__issubset()__\tReturns whether another set contains this set or not <br>\n",
    "__issuperset()__\tReturns whether this set contains another set or not <br>\n",
    "__pop()__\tRemoves an element from the set <br>\n",
    "__remove()__\tRemoves the specified element <br>\n",
    "__symmetric\\_difference()__\tReturns a set with the symmetric differences of two sets <br>\n",
    "__symmetric\\_difference_update()__\tinserts the symmetric differences from this set and another <br>\n",
    "__union()__\tReturn a set containing the union of sets <br>\n",
    "__update()__\tUpdate the set with the union of this set and others <br>\n",
    "\n"
   ]
  },
  {
   "cell_type": "markdown",
   "metadata": {},
   "source": [
    "### Tuples and sets vs lists in sets"
   ]
  },
  {
   "cell_type": "code",
   "execution_count": null,
   "metadata": {},
   "outputs": [],
   "source": [
    "#Tuple in set is fine\n",
    "{('11',1)}"
   ]
  },
  {
   "cell_type": "code",
   "execution_count": null,
   "metadata": {},
   "outputs": [],
   "source": [
    "#List in set cannot be used as it can be changed\n",
    "{['11', 1]}"
   ]
  },
  {
   "cell_type": "code",
   "execution_count": null,
   "metadata": {},
   "outputs": [],
   "source": [
    "#Set in set cannot be used as it can be changed\n",
    "{{15}}"
   ]
  },
  {
   "cell_type": "code",
   "execution_count": null,
   "metadata": {},
   "outputs": [],
   "source": [
    "#If you need to use set in set or dictionary - convert it into unchangeable frozenset!\n",
    "{frozenset({15})}"
   ]
  },
  {
   "cell_type": "markdown",
   "metadata": {},
   "source": [
    "## Why use sets and not lists???\n",
    "\n",
    "Speed of checking for existance and set operations."
   ]
  },
  {
   "cell_type": "markdown",
   "metadata": {},
   "source": [
    "## Dictionaries\n",
    "Dictionaries are similar to sets, but for every unique entry (a-ka \"key\") \n",
    "there is also an associated value. This value could be of any type and can be changeable, \n",
    "but the keys should be unique and unchangeable."
   ]
  },
  {
   "cell_type": "code",
   "execution_count": null,
   "metadata": {},
   "outputs": [],
   "source": [
    "#Creating dictionary\n",
    "empty_dictionary = {}\n",
    "\n",
    "person_age = {'Mollie' : 22, 'Jennie' : 22, 'Megan' : 25, 'Joe' : 23, 'Mark' : 21, 'Ellie' : 25}\n",
    "\n",
    "print(person_age, type(person_age))\n",
    "\n",
    "#Add new key : value pair\n",
    "person_age['Jeffrie'] = 32\n",
    "print(person_age)\n",
    "\n",
    "#Update existing key : value pair\n",
    "person_age['Jeffrie'] = 22\n",
    "print(person_age)\n",
    "\n",
    "#Access value by key\n",
    "jeff_age = person_age['Jeffrie']\n",
    "print(jeff_age)\n",
    "\n",
    "#Delete key : value pair\n",
    "del person_age['Jeffrie']\n",
    "print(person_age)\n",
    "\n",
    "#Check if key exists:\n",
    "print('Jeffrie' in person_age)\n",
    "\n",
    "#Get the number of key : value pairs\n",
    "print(len(person_age))\n",
    "\n",
    "#Access all keys as list\n",
    "print(list(person_age.keys()))\n",
    "\n",
    "#Access all values\n",
    "print(list(person_age.values()))\n",
    "\n",
    "#Access all key : value pairs as list of tuples\n",
    "print(list(person_age.items()))\n",
    "\n",
    "#Create dictionary from list of tuples of key : value pairs\n",
    "new_dict = dict(list(person_age.items()))\n",
    "print(new_dict)\n",
    "\n",
    "#Update existing dictionary\n",
    "new_dict2 = {'Mollie' : 25, 'Megan' : 45}\n",
    "print(new_dict2)\n",
    "new_dict2.update(new_dict)\n",
    "print(new_dict2)\n",
    "\n",
    "\n",
    "\n"
   ]
  },
  {
   "cell_type": "code",
   "execution_count": null,
   "metadata": {},
   "outputs": [],
   "source": [
    "#If you access non-existing key\n",
    "print(new_dict2['Jerome'])\n"
   ]
  },
  {
   "cell_type": "code",
   "execution_count": null,
   "metadata": {},
   "outputs": [],
   "source": [
    "#Access keys without worrying about their existence\n",
    "\n",
    "print('Jerome: ', person_age.get('Jerome'))\n",
    "print('Megan: ', person_age.get('Megan'))\n",
    "\n",
    "# with default value to return\n",
    "print('Jerome: ', person_age.get('Jerome', 'Unknown'))\n",
    "print('Megan: ', person_age.get('Megan', 0))\n",
    "\n",
    "print(person_age)\n",
    "# Access key and if it is not available - add to the dictionary with default value\n",
    "print('Jerome: ', person_age.setdefault('Jerome', 'Unknown'))\n",
    "print(person_age)\n",
    "\n",
    "#The latter can be particularly useful when you do not know in advance all the keys and each value needs to be \n",
    "#a list of dict itself to accumulate data:\n",
    "# person_likes = {}\n",
    "# person_likes.setdefault('Jerome', []).extend(['milk', 'cookies'])\n",
    "# - here if the person exists - his existing list of likes is extended with more data, and if not - \n",
    "# he is added to the dictionary with an empty list, then the empty list is returned and extended with the likes provided.\n",
    "\n"
   ]
  },
  {
   "cell_type": "markdown",
   "metadata": {},
   "source": [
    "### Dictionary methods\n",
    "__clear()__\tRemoves all the elements from the dictionary <br>\n",
    "__copy()__\tReturns a copy of the dictionary<br>\n",
    "__fromkeys()__\tReturns a dictionary with the specified keys and value<br>\n",
    "__get()__\tReturns the value of the specified key<br>\n",
    "__items()__\tReturns a list containing a tuple for each key value pair<br>\n",
    "__keys()__\tReturns a list containing the dictionary's keys<br>\n",
    "__pop()__\tRemoves the element with the specified key<br>\n",
    "__popitem()__\tRemoves the last inserted key-value pair<br>\n",
    "__setdefault()__\tReturns the value of the specified key. If the key does not exist: insert the key, with the specified value<br>\n",
    "__update()__\tUpdates the dictionary with the specified key-value pairs<br>\n",
    "__values()__\tReturns a list of all the values in the dictionary<br>"
   ]
  },
  {
   "cell_type": "markdown",
   "metadata": {},
   "source": [
    "## Branching\n",
    "When you need to choose one path or the other for your program depending on your conditions"
   ]
  },
  {
   "cell_type": "code",
   "execution_count": null,
   "metadata": {},
   "outputs": [],
   "source": [
    "a = 5\n",
    "b = 2\n",
    "\n",
    "if a > b:\n",
    "    print('a is greater than b: %s > %s'%(a, b))\n",
    "else:\n",
    "    print('a is less or equal to b: %s <= %s'%(a, b))\n",
    "    \n",
    "#Pay attention to indent!    \n",
    "    "
   ]
  },
  {
   "cell_type": "code",
   "execution_count": null,
   "metadata": {},
   "outputs": [],
   "source": [
    "a = 2\n",
    "b = 2\n",
    "\n",
    "if a > b:\n",
    "    print('a is greater than b: %s > %s'%(a, b))\n",
    "else:\n",
    "    print('a is less or equal to b: %s <= %s'%(a, b))\n"
   ]
  },
  {
   "cell_type": "code",
   "execution_count": null,
   "metadata": {},
   "outputs": [],
   "source": [
    "a = 5\n",
    "b = 2\n",
    "\n",
    "if a > b:\n",
    "    print('a is greater than b: %s > %s'%(a, b))\n",
    "\n",
    "print('Going forward')"
   ]
  },
  {
   "cell_type": "code",
   "execution_count": null,
   "metadata": {},
   "outputs": [],
   "source": [
    "a = 2\n",
    "b = 2\n",
    "\n",
    "if a > b:\n",
    "    print('a is greater than b: %s > %s'%(a, b))\n",
    "\n",
    "print('Going forward')"
   ]
  },
  {
   "cell_type": "code",
   "execution_count": null,
   "metadata": {},
   "outputs": [],
   "source": [
    "a = 2\n",
    "b = 2\n",
    "c = 3\n",
    "if (a > 1) and (b < 3):\n",
    "    print('Outer')\n",
    "    \n",
    "    if c == 3:\n",
    "        print('Inner 3')\n",
    "    else:\n",
    "        print('Not inner 3')\n",
    "else:\n",
    "    if c == 5:\n",
    "        print('Inner 5')\n",
    "    else:\n",
    "        print('Not inner 5')\n",
    "    \n",
    "    print('Not outer')\n",
    "print('Going forward')"
   ]
  },
  {
   "cell_type": "code",
   "execution_count": null,
   "metadata": {},
   "outputs": [],
   "source": [
    "a = 2\n",
    "b = 2\n",
    "c = 3\n",
    "\n",
    "if a == 4:\n",
    "    print('a 4')\n",
    "elif a == 3:\n",
    "    print('a 3')\n",
    "elif b == 2:\n",
    "    print('b 2')\n",
    "else:\n",
    "    print(c)\n",
    "    \n",
    "    "
   ]
  },
  {
   "cell_type": "markdown",
   "metadata": {},
   "source": [
    "## Loops\n",
    "Used when you need to repeat some action multiple times"
   ]
  },
  {
   "cell_type": "markdown",
   "metadata": {},
   "source": [
    "### while loop\n",
    "Continues as long as the condition is True"
   ]
  },
  {
   "cell_type": "code",
   "execution_count": null,
   "metadata": {},
   "outputs": [],
   "source": [
    "#Basic while loop\n",
    "\n",
    "i = 0\n",
    "while i < 10:\n",
    "    print(i)\n",
    "    i += 1\n",
    "    "
   ]
  },
  {
   "cell_type": "code",
   "execution_count": null,
   "metadata": {},
   "outputs": [],
   "source": [
    "#Using else with while \n",
    "i = 0\n",
    "\n",
    "while (i < 10) and (i % 5 != 4):\n",
    "    print(i)\n",
    "    i += 1\n",
    "else:\n",
    "    print('Finished, i = %s'%i)"
   ]
  },
  {
   "cell_type": "code",
   "execution_count": null,
   "metadata": {},
   "outputs": [],
   "source": [
    "#Looping through a list with while and stopping if the stop word is encountered\n",
    "entries = ['Mark', 'Jennie', 'Megan', 'Ellie', 'Mark', 'Joe', 'Mark']\n",
    "print(entries)\n",
    "\n",
    "i = 0\n",
    "stop_word = 'Joe'\n",
    "\n",
    "while (i < len(entries)) and (entries[i] != stop_word):\n",
    "    print(entries[i])\n",
    "    i += 1\n",
    "else:\n",
    "    if i >= len(entries):\n",
    "        print('Finished')\n",
    "    elif entries[i] == stop_word:\n",
    "        print('%s found! Stopped!'%stop_word)\n",
    "        \n"
   ]
  },
  {
   "cell_type": "code",
   "execution_count": null,
   "metadata": {},
   "outputs": [],
   "source": [
    "#Another way to stop when the stop word is found\n",
    "entries = ['Mark', 'Jennie', 'Megan', 'Ellie', 'Mark', 'Joe', 'Mark']\n",
    "print(entries)\n",
    "\n",
    "i = 0\n",
    "stop_word = 'Joe'\n",
    "\n",
    "while i < len(entries):\n",
    "    print(entries[i])\n",
    "    if entries[i] == stop_word:\n",
    "        print('%s found! Stopped!'%stop_word)\n",
    "        break\n",
    "    \n",
    "    i += 1\n"
   ]
  },
  {
   "cell_type": "code",
   "execution_count": null,
   "metadata": {},
   "outputs": [],
   "source": [
    "entries = ['Mark', 'Jennie', 'Megan', 'Ellie', 'Mark', 'Joe', 'Mark']\n",
    "print(entries)\n",
    "exclude_people = set(['Jennie', 'Megan'])\n",
    "\n",
    "i = 0\n",
    "stop_word = 'Joe'\n",
    "\n",
    "while i < len(entries):\n",
    "    if entries[i] in exclude_people:\n",
    "        i += 1 #Important to not forget to increment the current index before continuing\n",
    "        continue\n",
    "        \n",
    "    print(entries[i])\n",
    "    \n",
    "    if entries[i] == stop_word:\n",
    "        print('%s found! Stopped!'%stop_word)\n",
    "        break\n",
    "    \n",
    "    i += 1\n"
   ]
  },
  {
   "cell_type": "markdown",
   "metadata": {},
   "source": [
    "### for loop\n",
    "goes through elements returned by iterator"
   ]
  },
  {
   "cell_type": "code",
   "execution_count": null,
   "metadata": {},
   "outputs": [],
   "source": [
    "entries = ['Mark', 'Jennie', 'Megan', 'Ellie', 'Mark', 'Joe', 'Mark']\n",
    "print(entries)\n",
    "unique_entries = set(entries)\n",
    "print(unique_entries)\n",
    "person_age = {'Mollie' : 22, 'Jennie' : 22, 'Megan' : 25, 'Joe' : 23, 'Mark' : 21, 'Ellie' : 25}\n",
    "print(person_age, type(person_age))\n",
    "\n",
    "print('Looping through list')\n",
    "for entry in entries:\n",
    "    print(entry)\n",
    "print()\n",
    "    \n",
    "print('Looping through set')    \n",
    "for entry in unique_entries:\n",
    "    print(entry)\n",
    "print()    \n",
    "    \n",
    "print('Looping through dictionary:')\n",
    "for key in person_age:\n",
    "    print(key)\n",
    "print()    \n",
    "    \n",
    "print('Looping through keys in dictionary:')\n",
    "for key in person_age.keys():\n",
    "    print(key)\n",
    "print()    \n",
    "    \n",
    "print('Looping through values in dictionary:')    \n",
    "for value in person_age.values():\n",
    "    print(value)\n",
    "print()    \n",
    "\n",
    "print('Looping through items in dictionary:')\n",
    "for item in person_age.items():\n",
    "    print(item)\n",
    "print()    \n",
    "\n",
    "print('Looping through key:value pairs in dictionary:')\n",
    "for key, value in person_age.items():\n",
    "    print(\"%s's age is %s\"%(key, value))\n",
    "print()    \n",
    "    \n",
    "print('Looping through the range of ints and accessing list items:')    \n",
    "for i in range(len(entries)):\n",
    "    if i % 2 == 1:\n",
    "        print(entries[i])\n",
    "    else:\n",
    "        continue\n",
    "    print(i)\n",
    "    if i > 5:\n",
    "        break\n",
    "\n",
    "    "
   ]
  },
  {
   "cell_type": "code",
   "execution_count": null,
   "metadata": {},
   "outputs": [],
   "source": [
    "entries = ['Mark', 'Jennie', 'Megan', 'Mark', 'Mark']\n",
    "print(entries)\n",
    "unique_entries = set(entries)\n",
    "print(unique_entries)\n",
    "person_age = {'Mollie' : 22, 'Jennie' : 22, 'Megan' : 25, 'Joe' : 23, 'Mark' : 21, 'Ellie' : 25}\n",
    "print(person_age, type(person_age))\n",
    "\n",
    "for entry in list(person_age.keys()): #Note the use of list for keys() - try without it ;-)\n",
    "    if entry in unique_entries:\n",
    "        print(\"%s's age is %s\"%(entry, person_age[entry]))\n",
    "    else:\n",
    "        del person_age[entry]\n",
    "\n",
    "print(person_age)\n",
    "\n",
    "        "
   ]
  },
  {
   "cell_type": "markdown",
   "metadata": {},
   "source": [
    "## Functions\n",
    "A part of code which can be executed multiple times, called from different places and has a specific name to address it by"
   ]
  },
  {
   "cell_type": "code",
   "execution_count": null,
   "metadata": {},
   "outputs": [],
   "source": [
    "def is_stop_word(value, stop_word):\n",
    "    if value == stop_word:\n",
    "        return True\n",
    "    else:\n",
    "        return False\n",
    "    \n",
    "    \n",
    "entries = ['Mark', 'Jennie', 'Megan', 'Mark', 'Mark']\n",
    "stop_word = 'Mark'    \n",
    "\n",
    "for entry in entries:\n",
    "    print(is_stop_word(entry, stop_word))\n",
    "\n",
    "\n",
    "def no_return():\n",
    "    pass\n",
    "\n",
    "print(no_return())\n",
    "    "
   ]
  },
  {
   "cell_type": "code",
   "execution_count": null,
   "metadata": {},
   "outputs": [],
   "source": [
    "def remove_stop_word(values, stop_word = ''):\n",
    "    #stop_word = 'Mark' - experiment with this\n",
    "    \n",
    "    for i in reversed(range(len(values))):\n",
    "        print(i)\n",
    "        if values[i] == stop_word:\n",
    "            print('Removing %s'%values.pop(i))\n",
    "\n",
    "entries = ['Mark', 'Jennie', 'Megan', 'Mark', 'Mark']\n",
    "stop_word = 'Mark'    \n",
    "\n",
    "print(entries, stop_word)\n",
    "remove_stop_word(entries)            \n",
    "print(entries, stop_word)            \n",
    "remove_stop_word(entries, stop_word = stop_word)                        \n",
    "print(entries, stop_word)                        "
   ]
  },
  {
   "cell_type": "markdown",
   "metadata": {},
   "source": [
    "### You can pass functions as arguments or have them as entries in lists or values in dictionaries"
   ]
  },
  {
   "cell_type": "code",
   "execution_count": null,
   "metadata": {},
   "outputs": [],
   "source": [
    "def remove_stop_word(values, stop_word = ''):\n",
    "    print('remove_stop_word called')\n",
    "    for i in reversed(range(len(values))):\n",
    "        print(i)\n",
    "        if values[i] == stop_word:\n",
    "            print('Removing %s'%values.pop(i))\n",
    "\n",
    "def process_data(data, stop_word, processor):\n",
    "    processor(data, stop_word)\n",
    "            \n",
    "entries = ['Mark', 'Jennie', 'Megan', 'Mark', 'Mark']\n",
    "stop_word = 'Mark'    \n",
    "\n",
    "processors_list = [remove_stop_word]\n",
    "print(processors_list)\n",
    "\n",
    "processors_dict = {'remover' : remove_stop_word}\n",
    "print(processors_dict)\n",
    "\n",
    "print(entries, stop_word)\n",
    "process_data(entries, stop_word, processors_dict['remover'])            \n",
    "process_data(entries, stop_word, processors_list[0])            \n",
    "process_data(entries, stop_word, remove_stop_word)            \n",
    "print(entries, stop_word)            \n"
   ]
  },
  {
   "cell_type": "markdown",
   "metadata": {},
   "source": [
    "### Function arguments tricks and specifics"
   ]
  },
  {
   "cell_type": "code",
   "execution_count": null,
   "metadata": {},
   "outputs": [],
   "source": [
    "#Do not use lists or dicts as default values - or problems will happed\n",
    "def try_me(default_list = []):\n",
    "    default_list.append(1)\n",
    "    return default_list\n",
    "    \n",
    "print(try_me(default_list = [3, 2]))\n",
    "\n",
    "print(try_me())\n",
    "print(try_me())\n",
    "print(try_me())\n",
    "\n",
    "\n",
    "    "
   ]
  },
  {
   "cell_type": "code",
   "execution_count": null,
   "metadata": {},
   "outputs": [],
   "source": [
    "def try_me(default_list = None):\n",
    "    if default_list is None:\n",
    "        default_list = []\n",
    "    default_list.append(1)\n",
    "    return default_list\n",
    "\n",
    "print(try_me(default_list = [3, 2]))\n",
    "\n",
    "print(try_me())\n",
    "print(try_me())\n",
    "print(try_me())\n",
    "\n"
   ]
  },
  {
   "cell_type": "code",
   "execution_count": null,
   "metadata": {},
   "outputs": [],
   "source": [
    "#multiple positional arguments\n",
    "\n",
    "def sum_values(*args):\n",
    "    \"\"\"\n",
    "    Calculates the sum of all arguments.\n",
    "    \n",
    "    Parameters\n",
    "    ----------\n",
    "    *args : ints or floats\n",
    "        Any number of positional arguments which will be summed.\n",
    "\n",
    "    Returns\n",
    "    -------\n",
    "    float\n",
    "        Sum of supplied arguments\n",
    "\n",
    "    \n",
    "    \"\"\"\n",
    "    print(type(args))\n",
    "    a = 0.0\n",
    "    for arg in args:\n",
    "        a += arg\n",
    "    return a\n",
    "\n",
    "print(sum_values(1, 2, 3, 4))\n",
    "print(sum_values(1, 2))\n",
    "print(sum_values(1, 2, 3, 4, 6))\n",
    "print(sum_values(*[2, 2, 2, 2]))\n",
    "\n"
   ]
  },
  {
   "cell_type": "code",
   "execution_count": null,
   "metadata": {},
   "outputs": [],
   "source": [
    "#multiple key word arguments\n",
    "\n",
    "def print_all_items(**kwargs):\n",
    "    print(type(kwargs))\n",
    "    for key, value in kwargs.items():\n",
    "        print('Argument name: value %s : %s'%(key, value))\n",
    "\n",
    "\n",
    "print_all_items(alpha = 0.5, beta = 'hello', gamma = 11)        \n",
    "\n",
    "person_age = {'Mollie' : 22, 'Jennie' : 22, 'Megan' : 25, 'Joe' : 23, 'Mark' : 21, 'Ellie' : 25}        \n",
    "print_all_items(**person_age)        "
   ]
  },
  {
   "cell_type": "code",
   "execution_count": null,
   "metadata": {},
   "outputs": [],
   "source": [
    "def mix_and_match(a, b, c, *rest_positional, alpha = 'a', beta = 'b', **rest_keyworded):\n",
    "    print(a)\n",
    "    print(b)\n",
    "    print(c)\n",
    "    print(rest_positional)\n",
    "    print(alpha)\n",
    "    print(beta)\n",
    "    print(rest_keyworded)\n",
    "    \n",
    "    \n",
    "mix_and_match(1, 2, 3, 4, 5, 6, beta = 'oooo', gamma = 'tttt')    \n",
    "    \n",
    "    \n",
    "    "
   ]
  },
  {
   "cell_type": "markdown",
   "metadata": {},
   "source": [
    "## Classes and instances of classes\n",
    "\n",
    "Every item is an object in python, be it a variable, a function or anything else. \n",
    "An object is like a dictionary which contains named data entries and also functions \n",
    "(called methods) which operate on these data entries for this specific object.\n",
    "For example, a car is an object which has attributes (i.e. data entries) such as price, name, brand, petrol type etc. and\n",
    "methods such as buy, refuel, drive etc.\n",
    "Class is a special type of object which is like a prototype or a blueprint for the object. When the object of a particular \n",
    "class is created, it gets set up according to the class definition getting class methods and default attributes. After that\n",
    "it lives its own life independently. Multiple objects (instances) can be created from the same class. \n",
    "Classes, in turn, can be created from other classes. In this case the new child class will inherit what was in its parent class\n",
    "and then introduce its own changes to the blueprint.\n"
   ]
  },
  {
   "cell_type": "code",
   "execution_count": null,
   "metadata": {},
   "outputs": [],
   "source": [
    "class Car(object):\n",
    "    \n",
    "    material = 'metal'\n",
    "    \n",
    "    def __init__(self, name):\n",
    "        super().__init__()\n",
    "        self.price = 0.0\n",
    "        self.name = name\n",
    "        self.fuel = 0.0\n",
    "        self.fuel_rate = 1.0\n",
    "        self.distance = 0.0\n",
    "        \n",
    "    def drive(self, distance = 0.0):\n",
    "        remaining_distance = self.fuel / self.fuel_rate\n",
    "        if distance > remaining_distance:\n",
    "            self.distance += remaining_distance\n",
    "            self.fuel = 0.0\n",
    "        else:\n",
    "            self.distance += distance\n",
    "            self.fuel -= distance * self.fuel_rate\n",
    "        \n",
    "    def refuel(self, fuel):\n",
    "        self.fuel += fuel\n",
    "    \n",
    "    def __repr__(self):\n",
    "        return 'Car \"%s\", fuel %.2f, fuel rate %.2f, distance %.2f, price %.2f, material %s'%(\n",
    "            self.name,\n",
    "            self.fuel,\n",
    "            self.fuel_rate,\n",
    "            self.distance,\n",
    "            self.price,\n",
    "            self.material\n",
    "        )\n",
    "        \n",
    "car1 = Car('Dollie')\n",
    "car2 = Car('Jerry')\n",
    "\n",
    "print(car1)\n",
    "print(car2)\n",
    "\n",
    "\n",
    "\n",
    "\n",
    "        \n",
    "        "
   ]
  },
  {
   "cell_type": "code",
   "execution_count": null,
   "metadata": {},
   "outputs": [],
   "source": [
    "Car.material = 'glass'\n",
    "print(car1)\n",
    "print(car2)\n"
   ]
  },
  {
   "cell_type": "code",
   "execution_count": null,
   "metadata": {},
   "outputs": [],
   "source": [
    "car1.material = 'wood'\n",
    "print(car1)\n",
    "print(car2)"
   ]
  },
  {
   "cell_type": "code",
   "execution_count": null,
   "metadata": {},
   "outputs": [],
   "source": [
    "Car.material = 'metal'\n",
    "print(car1)\n",
    "print(car2)\n"
   ]
  },
  {
   "cell_type": "code",
   "execution_count": null,
   "metadata": {},
   "outputs": [],
   "source": [
    "car1.refuel(10.0)\n",
    "car2.refuel(20.0)\n",
    "print(car1)\n",
    "print(car2)\n",
    "\n",
    "\n"
   ]
  },
  {
   "cell_type": "code",
   "execution_count": null,
   "metadata": {},
   "outputs": [],
   "source": [
    "car1.drive(15.0)\n",
    "car2.drive(15.0)\n",
    "print(car1)\n",
    "print(car2)\n"
   ]
  },
  {
   "cell_type": "code",
   "execution_count": null,
   "metadata": {},
   "outputs": [],
   "source": [
    "car1.drive(50.0)\n",
    "car2.drive(50.0)\n",
    "print(car1)\n",
    "print(car2)"
   ]
  },
  {
   "cell_type": "code",
   "execution_count": null,
   "metadata": {},
   "outputs": [],
   "source": [
    "class EconomyCar(Car):\n",
    "    material = 'plastic'\n",
    "    def __init__(self, name):\n",
    "        super().__init__(name)\n",
    "        self.fuel_rate = 0.5\n",
    "        \n",
    "        \n",
    "car3 = EconomyCar('Jack')        \n",
    "print(car1)\n",
    "print(car2)\n",
    "print(car3)\n",
    "        "
   ]
  },
  {
   "cell_type": "code",
   "execution_count": null,
   "metadata": {},
   "outputs": [],
   "source": [
    "car1.refuel(20.0)\n",
    "car2.refuel(20.0)\n",
    "car3.refuel(20.0)\n",
    "print(car1)\n",
    "print(car2)\n",
    "print(car3)\n",
    "        \n"
   ]
  },
  {
   "cell_type": "code",
   "execution_count": null,
   "metadata": {},
   "outputs": [],
   "source": [
    "car1.drive(50.0)\n",
    "car2.drive(50.0)\n",
    "car3.drive(50.0)\n",
    "print(car1)\n",
    "print(car2)\n",
    "print(car3)"
   ]
  },
  {
   "cell_type": "markdown",
   "metadata": {},
   "source": [
    "## Modules\n",
    "Python script files which contain functions, classes, variables etc. can be imported as modules into your script allowing \n",
    "you to re-use function and classes written previously in your code instead of writing them from scratch. Many libraries\n",
    "are available which can be installed and imported.\n",
    "\n"
   ]
  },
  {
   "cell_type": "code",
   "execution_count": null,
   "metadata": {},
   "outputs": [],
   "source": [
    "import os\n",
    "print(os.name)\n",
    "\n",
    "\n"
   ]
  },
  {
   "cell_type": "code",
   "execution_count": null,
   "metadata": {},
   "outputs": [],
   "source": [
    "import numpy as np\n",
    "\n",
    "a = np.array([1,2,3,4,5])\n",
    "print(a)\n",
    "print(np.sum(a))\n",
    "\n",
    "import pandas as pd\n",
    "\n",
    "print(pd.DataFrame({'Name' : ['Jolie', 'Charlie']}))\n"
   ]
  },
  {
   "cell_type": "code",
   "execution_count": null,
   "metadata": {},
   "outputs": [],
   "source": [
    "from sys import argv\n",
    "\n",
    "print(argv)"
   ]
  },
  {
   "cell_type": "code",
   "execution_count": null,
   "metadata": {},
   "outputs": [],
   "source": [
    "from sys import argv as cmd_line_arguments\n",
    "\n",
    "print(cmd_line_arguments)"
   ]
  },
  {
   "cell_type": "code",
   "execution_count": null,
   "metadata": {},
   "outputs": [],
   "source": []
  }
 ],
 "metadata": {
  "colab": {
   "collapsed_sections": [],
   "name": "intro_to_python.ipynb",
   "provenance": []
  },
  "kernelspec": {
   "display_name": "Python 3 (ipykernel)",
   "language": "python",
   "name": "python3"
  },
  "language_info": {
   "codemirror_mode": {
    "name": "ipython",
    "version": 3
   },
   "file_extension": ".py",
   "mimetype": "text/x-python",
   "name": "python",
   "nbconvert_exporter": "python",
   "pygments_lexer": "ipython3",
   "version": "3.9.15"
  }
 },
 "nbformat": 4,
 "nbformat_minor": 1
}
